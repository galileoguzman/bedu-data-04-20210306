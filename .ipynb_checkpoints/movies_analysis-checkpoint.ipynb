{
 "cells": [
  {
   "cell_type": "markdown",
   "id": "revolutionary-windsor",
   "metadata": {},
   "source": [
    "# Movies analysis\n",
    "\n",
    "### Description\n",
    "\n",
    "We are downloading a CSV about movies in digital platforms like Netflix, Disney+, Prime, and others. "
   ]
  },
  {
   "cell_type": "code",
   "execution_count": 2,
   "id": "suitable-rings",
   "metadata": {},
   "outputs": [],
   "source": [
    "# Import from third party libraries\n",
    "\n",
    "import numpy as np\n",
    "import pandas as pd\n",
    "\n",
    "import matplotlib.pyplot as plt\n",
    "import seaborn as sns\n",
    "import warnings as ws\n",
    "ws.filterwarnings('ignore')\n",
    "\n",
    "import requests"
   ]
  },
  {
   "cell_type": "markdown",
   "id": "wrapped-departure",
   "metadata": {},
   "source": [
    "### Download dataset from online resource"
   ]
  },
  {
   "cell_type": "code",
   "execution_count": null,
   "id": "organizational-telescope",
   "metadata": {},
   "outputs": [],
   "source": []
  }
 ],
 "metadata": {
  "kernelspec": {
   "display_name": "Python 3",
   "language": "python",
   "name": "python3"
  },
  "language_info": {
   "codemirror_mode": {
    "name": "ipython",
    "version": 3
   },
   "file_extension": ".py",
   "mimetype": "text/x-python",
   "name": "python",
   "nbconvert_exporter": "python",
   "pygments_lexer": "ipython3",
   "version": "3.8.3"
  }
 },
 "nbformat": 4,
 "nbformat_minor": 5
}
